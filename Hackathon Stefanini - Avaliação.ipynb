{
 "cells": [
  {
   "cell_type": "markdown",
   "metadata": {},
   "source": [
    "# **Desafio Alfabeto Alienígena**\n",
    "\n",
    "## Stefanini\n",
    "\n",
    "### **Nome do Grupo:**"
   ]
  },
  {
   "cell_type": "markdown",
   "metadata": {},
   "source": [
    "A Stefanini, juntamente com o programa aeroespacial da Agência NASTEFA, estão investigando uma nave espacial que veio de outro planeta. Espalhadas dentro da nave foram encontradas várias letras.\n",
    "\n",
    "Um grupo de cientistas da própria Stefanini encontrou um padrão com a linguagem Suméria e começou a decifrar, mas todos os cientistas foram abduzidos e agora, para saber onde os cientistas foram e descobrir qual civilização os abduziu, devem terminar de decifrar as imagens das letras."
   ]
  },
  {
   "cell_type": "code",
   "execution_count": 1,
   "metadata": {},
   "outputs": [
    {
     "name": "stderr",
     "output_type": "stream",
     "text": [
      "/Users/paulocotta/anaconda3/lib/python3.6/importlib/_bootstrap.py:219: RuntimeWarning: numpy.dtype size changed, may indicate binary incompatibility. Expected 96, got 88\n",
      "  return f(*args, **kwds)\n",
      "/Users/paulocotta/anaconda3/lib/python3.6/site-packages/h5py/__init__.py:34: FutureWarning: Conversion of the second argument of issubdtype from `float` to `np.floating` is deprecated. In future, it will be treated as `np.float64 == np.dtype(float).type`.\n",
      "  from ._conv import register_converters as _register_converters\n",
      "/Users/paulocotta/anaconda3/lib/python3.6/importlib/_bootstrap.py:219: RuntimeWarning: numpy.dtype size changed, may indicate binary incompatibility. Expected 96, got 88\n",
      "  return f(*args, **kwds)\n",
      "/Users/paulocotta/anaconda3/lib/python3.6/importlib/_bootstrap.py:219: RuntimeWarning: numpy.dtype size changed, may indicate binary incompatibility. Expected 96, got 88\n",
      "  return f(*args, **kwds)\n"
     ]
    },
    {
     "name": "stdout",
     "output_type": "stream",
     "text": [
      "1.5.0\n"
     ]
    }
   ],
   "source": [
    "import tensorflow as tf; \n",
    "print(tf.__version__)"
   ]
  },
  {
   "cell_type": "code",
   "execution_count": 12,
   "metadata": {},
   "outputs": [],
   "source": [
    "### Imports\n",
    "from PIL import Image, ImageFilter\n",
    "import os"
   ]
  },
  {
   "cell_type": "markdown",
   "metadata": {},
   "source": [
    "Será apresentado, neste momento, o DataSet do alfabeto atual nosso:"
   ]
  },
  {
   "cell_type": "code",
   "execution_count": 20,
   "metadata": {},
   "outputs": [
    {
     "name": "stdout",
     "output_type": "stream",
     "text": [
      "./dataset/alfabeto/K.png\n",
      "./dataset/alfabeto/J.png\n",
      "./dataset/alfabeto/H.png\n",
      "./dataset/alfabeto/I.png\n",
      "./dataset/alfabeto/Z.png\n",
      "./dataset/alfabeto/M.png\n",
      "./dataset/alfabeto/L.png\n",
      "./dataset/alfabeto/8.png\n",
      "./dataset/alfabeto/Y.png\n",
      "./dataset/alfabeto/N.png\n",
      "./dataset/alfabeto/O.png\n",
      "./dataset/alfabeto/X.png\n",
      "./dataset/alfabeto/9.png\n",
      "./dataset/alfabeto/4.png\n",
      "./dataset/alfabeto/U.png\n",
      "./dataset/alfabeto/B.png\n",
      "./dataset/alfabeto/C.png\n",
      "./dataset/alfabeto/T.png\n",
      "./dataset/alfabeto/5.png\n",
      "./dataset/alfabeto/7.png\n",
      "./dataset/alfabeto/V.png\n",
      "./dataset/alfabeto/A.png\n",
      "./dataset/alfabeto/W.png\n",
      "./dataset/alfabeto/6.png\n",
      "./dataset/alfabeto/D.png\n",
      "./dataset/alfabeto/2.png\n",
      "./dataset/alfabeto/S.png\n",
      "./dataset/alfabeto/R.png\n",
      "./dataset/alfabeto/3.png\n",
      "./dataset/alfabeto/E.png\n",
      "./dataset/alfabeto/G.png\n",
      "./dataset/alfabeto/1.png\n",
      "./dataset/alfabeto/P.png\n",
      "./dataset/alfabeto/Q.png\n",
      "./dataset/alfabeto/0.png\n",
      "./dataset/alfabeto/F.png\n"
     ]
    }
   ],
   "source": [
    "for name in os.listdir('./dataset/alfabeto'):\n",
    "    path = './dataset/alfabeto/' + name\n",
    "    print(path)\n",
    "    image = Image.open(path)\n",
    "    image.show()"
   ]
  },
  {
   "cell_type": "markdown",
   "metadata": {},
   "source": [
    "Agora será apresentado o DataSet do alfabeto baseado em Sumério, mas que não foi descoberto ainda qual é a língua exata. O mesmo foi encontrado na nave alienígena:"
   ]
  },
  {
   "cell_type": "code",
   "execution_count": 21,
   "metadata": {},
   "outputs": [
    {
     "name": "stdout",
     "output_type": "stream",
     "text": [
      "./dataset/sumerio/!!!!!!!.png\n",
      "./dataset/sumerio/####.png\n",
      "./dataset/sumerio/?.png\n",
      "./dataset/sumerio/?????.png\n",
      "./dataset/sumerio/?!!.png\n",
      "./dataset/sumerio/##.png\n",
      "./dataset/sumerio/?!!!!!!.png\n",
      "./dataset/sumerio/??.png\n",
      "./dataset/sumerio/!!!!!!.png\n",
      "./dataset/sumerio/######.png\n",
      "./dataset/sumerio/?!!!!!!!!.png\n",
      "./dataset/sumerio/!!!!!!!!.png\n",
      "./dataset/sumerio/?!!!!!!!.png\n",
      "./dataset/sumerio/!!!.png\n",
      "./dataset/sumerio/?!!!!!.png\n",
      "./dataset/sumerio/#####.png\n",
      "./dataset/sumerio/????.png\n",
      "./dataset/sumerio/?!.png\n",
      "./dataset/sumerio/??????.png\n",
      "./dataset/sumerio/########.png\n",
      "./dataset/sumerio/?!!!!.png\n",
      "./dataset/sumerio/????????.png\n",
      "./dataset/sumerio/?????????.png\n",
      "./dataset/sumerio/?!!!.png\n",
      "./dataset/sumerio/#######.png\n",
      "./dataset/sumerio/???.png\n",
      "./dataset/sumerio/###.png\n",
      "./dataset/sumerio/#.png\n",
      "./dataset/sumerio/!!!!!!!!!.png\n",
      "./dataset/sumerio/!.png\n",
      "./dataset/sumerio/!!!!!.png\n",
      "./dataset/sumerio/?!!!!!!!!!.png\n",
      "./dataset/sumerio/!!.png\n",
      "./dataset/sumerio/!!!!.png\n",
      "./dataset/sumerio/???????.png\n",
      "./dataset/sumerio/#########.png\n"
     ]
    }
   ],
   "source": [
    "for name in os.listdir('./dataset/sumerio'):\n",
    "    path = './dataset/sumerio/' + name\n",
    "    print(path)\n",
    "    image = Image.open(path)\n",
    "    image.show()"
   ]
  },
  {
   "cell_type": "markdown",
   "metadata": {},
   "source": [
    "Os pesquisadores, ao realizarem seus estudos antes de serem abdusidos, também identificaram alguns dados que nos mostram o padrão DE <==> PARA entre a nossa linguagem e a linguagem encontrada:"
   ]
  },
  {
   "cell_type": "code",
   "execution_count": 22,
   "metadata": {},
   "outputs": [
    {
     "name": "stdout",
     "output_type": "stream",
     "text": [
      "./dataset/encontrado/J.png\n",
      "./dataset/encontrado/H.png\n",
      "./dataset/encontrado/8.png\n",
      "./dataset/encontrado/N.png\n",
      "./dataset/encontrado/5.png\n",
      "./dataset/encontrado/V.png\n",
      "./dataset/encontrado/A.png\n",
      "./dataset/encontrado/2.png\n",
      "./dataset/encontrado/S.png\n",
      "./dataset/encontrado/Q.png\n",
      "./dataset/encontrado/0.png\n",
      "./dataset/encontrado/F.png\n"
     ]
    }
   ],
   "source": [
    "for name in os.listdir('./dataset/encontrado'):\n",
    "    path = './dataset/encontrado/' + name\n",
    "    print(path)\n",
    "    image = Image.open(path)\n",
    "    image.show()"
   ]
  },
  {
   "cell_type": "markdown",
   "metadata": {},
   "source": [
    "**Primeiro exercício: **\n",
    "\n",
    "De acordo com o que foi encontrado, devemos decifrar o restante do alfabeto. Para decifrar o restante do alfabeto, tenha em mente que:\n",
    "\n",
    "Se o alfabeto contém 26 letras e os números contém de 0 a 9, sendo o 0 neutro, devemos contabilizar então que temos 9 números, agora devemos identificar as letras faltantes para identificar o texto que será apresentado na questão três. \n",
    "\n",
    "**Dica:**\n",
    "- De A a Z e de 0 a 9, deve-se descobrir letra a letra."
   ]
  },
  {
   "cell_type": "code",
   "execution_count": 15,
   "metadata": {},
   "outputs": [],
   "source": [
    "### Deve-se colocar o código aqui"
   ]
  },
  {
   "cell_type": "markdown",
   "metadata": {},
   "source": [
    "Após identificar, deve-se explicar qual foi a técnica e a lógica que foi utilizada.\n",
    "\n",
    "**Explicar aqui**"
   ]
  },
  {
   "cell_type": "markdown",
   "metadata": {},
   "source": [
    "**Segundo exercício:**\n",
    "\n",
    "Deve-se criar uma I.A. (Machine Learning ou Deep Learning) para classificar o que é alfabeto Latino Americano e o que é alfabeto Alienígena. Esse classificador tem que ser dividido em treino, teste e validação.\n",
    "\n",
    "**Dicas:**\n",
    "\n",
    "- Faça um Data Augumentation.\n",
    "- Faça padding das imagens para padronizá-las para o mesmo tamanho.\n",
    "- Utilize alguma técnica que consiga classificar, mas explique o porquê e o motivo pelo qual foi utilizado."
   ]
  },
  {
   "cell_type": "code",
   "execution_count": 16,
   "metadata": {},
   "outputs": [],
   "source": [
    "### O código deve estar contido aqui..."
   ]
  },
  {
   "cell_type": "markdown",
   "metadata": {},
   "source": [
    "**Terceiro Exercício:**\n",
    "\n",
    "No texto que será apresentado abaixo, seguindo a lógica do primeiro exercício, faça a tradução do mesmo, identificando as imagens, e apresente aqui. Após isso, deve-se transformar o conteúdo que está em imagem para texto, utilizando as labels de cada letra. Se as letras do alfabeto Alienígena não estiverem com as labels certas, deve-se corrigir e, após isso, executar todo o exercício descrito."
   ]
  },
  {
   "cell_type": "code",
   "execution_count": 19,
   "metadata": {},
   "outputs": [],
   "source": [
    "path = './dataset/mensagem.png'\n",
    "image = Image.open(path)\n",
    "image.show()"
   ]
  },
  {
   "cell_type": "code",
   "execution_count": 17,
   "metadata": {},
   "outputs": [],
   "source": [
    "### O código deve estar aqui..."
   ]
  }
 ],
 "metadata": {
  "kernelspec": {
   "display_name": "Python 3",
   "language": "python",
   "name": "python3"
  },
  "language_info": {
   "codemirror_mode": {
    "name": "ipython",
    "version": 3
   },
   "file_extension": ".py",
   "mimetype": "text/x-python",
   "name": "python",
   "nbconvert_exporter": "python",
   "pygments_lexer": "ipython3",
   "version": "3.6.8"
  }
 },
 "nbformat": 4,
 "nbformat_minor": 2
}
